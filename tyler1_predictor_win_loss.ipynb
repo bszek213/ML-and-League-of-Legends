{
 "cells": [
  {
   "cell_type": "code",
   "execution_count": 25,
   "id": "adult-chaos",
   "metadata": {},
   "outputs": [
    {
     "name": "stdout",
     "output_type": "stream",
     "text": [
      "{'id': 'wzoROkOGV256lDuraz1SmF44aWZA23P_2xxNQqGxg0mZLqpn', 'accountId': 'LmXEidbyDIZ39ZzRRAngA7gA6wcxVN1fQEX1PwvyLq2ELFi3vP2ka_4N', 'puuid': 'lZRdO2wVxiR0YDg6ElcZD4uhXHhJNN49pCwxPLIHlQgo0pBJ8_TArbJaTkNp6NMKTLO8cPKPmhf1lQ', 'name': 'HULKSMASH1337', 'profileIconId': 3546, 'revisionDate': 1615616858000, 'summonerLevel': 216}\n"
     ]
    }
   ],
   "source": [
    "from riotwatcher import LolWatcher, ApiError\n",
    "import pandas as pd\n",
    "api_key = 'RGAPI-a4de2f58-c735-4172-a0fc-f8e553c47bc0'\n",
    "watcher = LolWatcher(api_key)\n",
    "my_region = 'na1'\n",
    "string_ID = 'HULKSMASH1337'\n",
    "lol_tyler_1 = watcher.summoner.by_name(my_region, string_ID)\n",
    "print(lol_tyler_1)"
   ]
  },
  {
   "cell_type": "code",
   "execution_count": 3,
   "id": "written-hungarian",
   "metadata": {},
   "outputs": [],
   "source": [
    "my_matches = watcher.match.matchlist_by_account(my_region,\n",
    "                                                lol_tyler_1['accountId'])"
   ]
  },
  {
   "cell_type": "code",
   "execution_count": 4,
   "id": "bigger-garlic",
   "metadata": {},
   "outputs": [],
   "source": [
    "count =0;                                                                       \n",
    "for matchData in my_matches['matches']:\n",
    "        count = count +1"
   ]
  },
  {
   "cell_type": "code",
   "execution_count": 69,
   "id": "logical-calgary",
   "metadata": {},
   "outputs": [],
   "source": [
    "participants =[]\n",
    "alldata = {}\n",
    "summoners = pd.DataFrame\n",
    "counter = 0\n",
    "for allMatch in range(count-1):\n",
    "    last_match = my_matches['matches'][allMatch]\n",
    "    match_detail = watcher.match.by_id(my_region, last_match['gameId'])\n",
    "    find_tyler = match_detail['participants']\n",
    "    for names in match_detail['participantIdentities']:                     \n",
    "        rowSum = {}                                                         \n",
    "        rowSum['Game #'] = allMatch                                         \n",
    "        rowSum['Participant ID']= names['participantId']                    \n",
    "        rowSum['Summoner Name'] = names['player']['summonerName']\n",
    "        if names['player']['summonerName'] == string_ID:\n",
    "            summoner_ID = rowSum['Participant ID']\n",
    "            for row in find_tyler:\n",
    "                stats_row = row['stats']\n",
    "                if stats_row['participantId'] == summoner_ID:\n",
    "                    instance_df = pd.DataFrame\n",
    "                    summoner_stats ={}\n",
    "                    #summoner_stats['outcome'] = stats_row['win']\n",
    "                    if stats_row['win'] == True:\n",
    "                        summoner_stats['outcome'] = 1\n",
    "                    else:\n",
    "                        summoner_stats['outcome'] = 0\n",
    "                    summoner_stats['kills'] = stats_row['kills']\n",
    "                    summoner_stats['deaths'] = stats_row['deaths']\n",
    "                    summoner_stats['assists'] = stats_row['assists']\n",
    "                    summoner_stats['totalDamageDealt'] = stats_row['totalDamageDealt']\n",
    "                    summoner_stats['damageDealtToObjectives'] = stats_row['damageDealtToObjectives']\n",
    "                    summoner_stats['totalDamageDealtToChampions'] = stats_row['totalDamageDealtToChampions']\n",
    "                    summoner_stats['goldEarned'] = stats_row['goldEarned']\n",
    "                    summoner_stats['totalMinionsKilled'] = stats_row['totalMinionsKilled']\n",
    "                    #final_data =  pd.DataFrame(summoner_stats, index=[counter])\n",
    "                    alldata[counter] = summoner_stats\n",
    "                    #summoners = summoners.append(summoner_stats, ignore_index=True)\n",
    "                    counter = counter +1\n",
    "                    #instance_df = pd.DataFrame.from_dict(summoner_stats,orient='index',\n",
    "                    #                                    columns=['outcome', 'kills', 'deaths', 'assists',\n",
    "                    #                                            'totalDamageDealt', 'damageDealtToObjectives',\n",
    "                    #                                             'goldEarned', 'totalMinionsKilled'])\n",
    "                    \n",
    "                \n",
    "            \n",
    "                                                                    \n",
    "# #         part_row['Game #'] = allMatch                                           \n",
    "#         #part_row['champion'] = row['championId']                                \n",
    "#          part_row['statsData'] = row['stats']        \n",
    "#          print(part_row)\n",
    "# #         participants.append(part_row)                                           \n",
    "# #         df = pd.DataFrame(participants)                                         \n",
    "# #         summoners = []                                                            \n",
    "    #data = dict(zip(allMatch,\n",
    "                    #np.random.randint(10, size=5)))\n",
    "    #match_pandas['Game #'] = [allMatch]\n",
    "    #match_pandas['champion'] = row['championId']\n",
    "    #match_pandas['win'] = row['stats']['win']\n",
    "    #if allMatch == 1:\n",
    "    #    print(match_detail['stats'])"
   ]
  },
  {
   "cell_type": "code",
   "execution_count": 70,
   "id": "continuing-survivor",
   "metadata": {},
   "outputs": [],
   "source": [
    "data_transformed_df = pd.DataFrame.from_dict(alldata).T"
   ]
  },
  {
   "cell_type": "code",
   "execution_count": 72,
   "id": "outstanding-bunny",
   "metadata": {},
   "outputs": [
    {
     "data": {
      "text/html": [
       "<div>\n",
       "<style scoped>\n",
       "    .dataframe tbody tr th:only-of-type {\n",
       "        vertical-align: middle;\n",
       "    }\n",
       "\n",
       "    .dataframe tbody tr th {\n",
       "        vertical-align: top;\n",
       "    }\n",
       "\n",
       "    .dataframe thead th {\n",
       "        text-align: right;\n",
       "    }\n",
       "</style>\n",
       "<table border=\"1\" class=\"dataframe\">\n",
       "  <thead>\n",
       "    <tr style=\"text-align: right;\">\n",
       "      <th></th>\n",
       "      <th>outcome</th>\n",
       "      <th>kills</th>\n",
       "      <th>deaths</th>\n",
       "      <th>assists</th>\n",
       "      <th>totalDamageDealt</th>\n",
       "      <th>damageDealtToObjectives</th>\n",
       "      <th>totalDamageDealtToChampions</th>\n",
       "      <th>goldEarned</th>\n",
       "      <th>totalMinionsKilled</th>\n",
       "    </tr>\n",
       "  </thead>\n",
       "  <tbody>\n",
       "    <tr>\n",
       "      <th>0</th>\n",
       "      <td>1</td>\n",
       "      <td>4</td>\n",
       "      <td>6</td>\n",
       "      <td>6</td>\n",
       "      <td>104725</td>\n",
       "      <td>2989</td>\n",
       "      <td>17214</td>\n",
       "      <td>9538</td>\n",
       "      <td>165</td>\n",
       "    </tr>\n",
       "    <tr>\n",
       "      <th>1</th>\n",
       "      <td>0</td>\n",
       "      <td>5</td>\n",
       "      <td>7</td>\n",
       "      <td>3</td>\n",
       "      <td>137672</td>\n",
       "      <td>4583</td>\n",
       "      <td>24062</td>\n",
       "      <td>10754</td>\n",
       "      <td>183</td>\n",
       "    </tr>\n",
       "    <tr>\n",
       "      <th>2</th>\n",
       "      <td>1</td>\n",
       "      <td>10</td>\n",
       "      <td>6</td>\n",
       "      <td>18</td>\n",
       "      <td>141475</td>\n",
       "      <td>5612</td>\n",
       "      <td>29312</td>\n",
       "      <td>14664</td>\n",
       "      <td>157</td>\n",
       "    </tr>\n",
       "    <tr>\n",
       "      <th>3</th>\n",
       "      <td>1</td>\n",
       "      <td>2</td>\n",
       "      <td>5</td>\n",
       "      <td>7</td>\n",
       "      <td>131963</td>\n",
       "      <td>10794</td>\n",
       "      <td>14656</td>\n",
       "      <td>10984</td>\n",
       "      <td>157</td>\n",
       "    </tr>\n",
       "    <tr>\n",
       "      <th>4</th>\n",
       "      <td>1</td>\n",
       "      <td>0</td>\n",
       "      <td>7</td>\n",
       "      <td>4</td>\n",
       "      <td>62810</td>\n",
       "      <td>5252</td>\n",
       "      <td>6042</td>\n",
       "      <td>5562</td>\n",
       "      <td>108</td>\n",
       "    </tr>\n",
       "  </tbody>\n",
       "</table>\n",
       "</div>"
      ],
      "text/plain": [
       "   outcome  kills  deaths  assists  totalDamageDealt  damageDealtToObjectives  \\\n",
       "0        1      4       6        6            104725                     2989   \n",
       "1        0      5       7        3            137672                     4583   \n",
       "2        1     10       6       18            141475                     5612   \n",
       "3        1      2       5        7            131963                    10794   \n",
       "4        1      0       7        4             62810                     5252   \n",
       "\n",
       "   totalDamageDealtToChampions  goldEarned  totalMinionsKilled  \n",
       "0                        17214        9538                 165  \n",
       "1                        24062       10754                 183  \n",
       "2                        29312       14664                 157  \n",
       "3                        14656       10984                 157  \n",
       "4                         6042        5562                 108  "
      ]
     },
     "execution_count": 72,
     "metadata": {},
     "output_type": "execute_result"
    }
   ],
   "source": [
    "data_transformed_df.head()"
   ]
  },
  {
   "cell_type": "code",
   "execution_count": 81,
   "id": "agreed-fraud",
   "metadata": {},
   "outputs": [],
   "source": [
    "from sklearn.ensemble import RandomForestRegressor\n",
    "from sklearn.ensemble import GradientBoostingRegressor\n",
    "from sklearn.model_selection import train_test_split\n",
    "from sklearn.preprocessing import StandardScaler\n",
    "from sklearn.linear_model import LogisticRegression\n",
    "from sklearn.tree import DecisionTreeClassifier\n",
    "import numpy as np\n",
    "X = data_transformed_df[['kills','deaths','assists','totalDamageDealt',\n",
    "              'damageDealtToObjectives','totalDamageDealtToChampions','goldEarned','totalMinionsKilled']]\n",
    "y = data_transformed_df['outcome']\n",
    "X_train, X_test, y_train, y_test = train_test_split(X, y)"
   ]
  },
  {
   "cell_type": "code",
   "execution_count": 87,
   "id": "closed-imagination",
   "metadata": {},
   "outputs": [
    {
     "name": "stdout",
     "output_type": "stream",
     "text": [
      "              precision    recall  f1-score   support\n",
      "\n",
      "           0       0.62      0.77      0.69        13\n",
      "           1       0.67      0.50      0.57        12\n",
      "\n",
      "    accuracy                           0.64        25\n",
      "   macro avg       0.65      0.63      0.63        25\n",
      "weighted avg       0.65      0.64      0.63        25\n",
      "\n"
     ]
    }
   ],
   "source": [
    "from sklearn.metrics import classification_report\n",
    "model = DecisionTreeClassifier()\n",
    "model.fit(X_train, y_train)\n",
    "y_pred = model.predict(X_test)\n",
    "print(classification_report(y_test, y_pred))"
   ]
  },
  {
   "cell_type": "code",
   "execution_count": 93,
   "id": "single-complexity",
   "metadata": {},
   "outputs": [
    {
     "data": {
      "text/plain": [
       "Text(0.5, 1.0, 'HULKSMASH1337')"
      ]
     },
     "execution_count": 93,
     "metadata": {},
     "output_type": "execute_result"
    },
    {
     "data": {
      "image/png": "[encoded data removed]",
      "text/plain": [
       "<Figure size 432x288 with 1 Axes>"
      ]
     },
     "metadata": {
      "needs_background": "light"
     },
     "output_type": "display_data"
    }
   ],
   "source": [
    "feature_imp = pd.Series(model.feature_importances_,index=X.columns).sort_values(ascending=False)\n",
    "import seaborn as sns\n",
    "import matplotlib.pyplot as plt\n",
    "plot1 = plt.figure(1)\n",
    "sns.barplot(x=feature_imp,y=feature_imp.index)\n",
    "plt.xlabel('Feature Importance')\n",
    "plt.ylabel('Features')\n",
    "plt.title(string_ID)"
   ]
  },
  {
   "cell_type": "code",
   "execution_count": null,
   "id": "ceramic-newport",
   "metadata": {},
   "outputs": [],
   "source": []
  }
 ],
 "metadata": {
  "kernelspec": {
   "display_name": "Python 3",
   "language": "python",
   "name": "python3"
  },
  "language_info": {
   "codemirror_mode": {
    "name": "ipython",
    "version": 3
   },
   "file_extension": ".py",
   "mimetype": "text/x-python",
   "name": "python",
   "nbconvert_exporter": "python",
   "pygments_lexer": "ipython3",
   "version": "3.9.2"
  }
 },
 "nbformat": 4,
 "nbformat_minor": 5
}

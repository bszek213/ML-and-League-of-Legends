{
 "cells": [
  {
   "cell_type": "code",
   "execution_count": 1,
   "id": "adult-chaos",
   "metadata": {},
   "outputs": [
    {
     "name": "stdout",
     "output_type": "stream",
     "text": [
      "{'id': 'wzoROkOGV256lDuraz1SmF44aWZA23P_2xxNQqGxg0mZLqpn', 'accountId': 'LmXEidbyDIZ39ZzRRAngA7gA6wcxVN1fQEX1PwvyLq2ELFi3vP2ka_4N', 'puuid': 'lZRdO2wVxiR0YDg6ElcZD4uhXHhJNN49pCwxPLIHlQgo0pBJ8_TArbJaTkNp6NMKTLO8cPKPmhf1lQ', 'name': 'HULKSMASH1337', 'profileIconId': 3546, 'revisionDate': 1615616858000, 'summonerLevel': 217}\n"
     ]
    }
   ],
   "source": [
    "from riotwatcher import LolWatcher, ApiError\n",
    "import pandas as pd\n",
    "api_key = 'RGAPI-a4de2f58-c735-4172-a0fc-f8e553c47bc0'\n",
    "watcher = LolWatcher(api_key)\n",
    "my_region = 'na1'\n",
    "string_ID = 'HULKSMASH1337'\n",
    "lol_tyler_1 = watcher.summoner.by_name(my_region, string_ID)\n",
    "print(lol_tyler_1)"
   ]
  },
  {
   "cell_type": "code",
   "execution_count": 2,
   "id": "written-hungarian",
   "metadata": {},
   "outputs": [],
   "source": [
    "my_matches = watcher.match.matchlist_by_account(my_region,\n",
    "                                                lol_tyler_1['accountId'])"
   ]
  },
  {
   "cell_type": "code",
   "execution_count": 3,
   "id": "bigger-garlic",
   "metadata": {},
   "outputs": [],
   "source": [
    "count =0;                                                                       \n",
    "for matchData in my_matches['matches']:\n",
    "        count = count +1"
   ]
  },
  {
   "cell_type": "code",
   "execution_count": 6,
   "id": "logical-calgary",
   "metadata": {},
   "outputs": [],
   "source": [
    "participants =[]\n",
    "alldata = {}\n",
    "summoners = pd.DataFrame\n",
    "counter = 0\n",
    "for allMatch in range(count-1):\n",
    "    last_match = my_matches['matches'][allMatch]\n",
    "    match_detail = watcher.match.by_id(my_region, last_match['gameId'])\n",
    "    find_tyler = match_detail['participants']\n",
    "    for names in match_detail['participantIdentities']:                     \n",
    "        rowSum = {}                                                         \n",
    "        rowSum['Game #'] = allMatch                                         \n",
    "        rowSum['Participant ID']= names['participantId']                    \n",
    "        rowSum['Summoner Name'] = names['player']['summonerName']\n",
    "        if names['player']['summonerName'] == string_ID:\n",
    "            summoner_ID = rowSum['Participant ID']\n",
    "            for row in find_tyler:\n",
    "                stats_row = row['stats']\n",
    "                if stats_row['participantId'] == summoner_ID:\n",
    "                    instance_df = pd.DataFrame\n",
    "                    summoner_stats ={}\n",
    "                    #summoner_stats['outcome'] = stats_row['win']\n",
    "                    if stats_row['win'] == True:\n",
    "                        summoner_stats['outcome'] = 1\n",
    "                    else:\n",
    "                        summoner_stats['outcome'] = 0\n",
    "                    summoner_stats['kills'] = stats_row['kills']\n",
    "                    summoner_stats['deaths'] = stats_row['deaths']\n",
    "                    summoner_stats['assists'] = stats_row['assists']\n",
    "                    summoner_stats['totalDamageDealt'] = stats_row['totalDamageDealt']\n",
    "                    summoner_stats['damageDealtToObjectives'] = stats_row['damageDealtToObjectives']\n",
    "                    summoner_stats['totalDamageDealtToChampions'] = stats_row['totalDamageDealtToChampions']\n",
    "                    summoner_stats['goldEarned'] = stats_row['goldEarned']\n",
    "                    summoner_stats['totalMinionsKilled'] = stats_row['totalMinionsKilled']\n",
    "                    alldata[counter] = summoner_stats\n",
    "                    counter = counter +1         "
   ]
  },
  {
   "cell_type": "code",
   "execution_count": 7,
   "id": "operating-rehabilitation",
   "metadata": {},
   "outputs": [],
   "source": [
    "data_transformed_df = pd.DataFrame.from_dict(alldata).T"
   ]
  },
  {
   "cell_type": "code",
   "execution_count": 8,
   "id": "clinical-salmon",
   "metadata": {},
   "outputs": [
    {
     "data": {
      "text/html": [
       "<div>\n",
       "<style scoped>\n",
       "    .dataframe tbody tr th:only-of-type {\n",
       "        vertical-align: middle;\n",
       "    }\n",
       "\n",
       "    .dataframe tbody tr th {\n",
       "        vertical-align: top;\n",
       "    }\n",
       "\n",
       "    .dataframe thead th {\n",
       "        text-align: right;\n",
       "    }\n",
       "</style>\n",
       "<table border=\"1\" class=\"dataframe\">\n",
       "  <thead>\n",
       "    <tr style=\"text-align: right;\">\n",
       "      <th></th>\n",
       "      <th>outcome</th>\n",
       "      <th>kills</th>\n",
       "      <th>deaths</th>\n",
       "      <th>assists</th>\n",
       "      <th>totalDamageDealt</th>\n",
       "      <th>damageDealtToObjectives</th>\n",
       "      <th>totalDamageDealtToChampions</th>\n",
       "      <th>goldEarned</th>\n",
       "      <th>totalMinionsKilled</th>\n",
       "    </tr>\n",
       "  </thead>\n",
       "  <tbody>\n",
       "    <tr>\n",
       "      <th>0</th>\n",
       "      <td>1</td>\n",
       "      <td>5</td>\n",
       "      <td>4</td>\n",
       "      <td>9</td>\n",
       "      <td>100105</td>\n",
       "      <td>9147</td>\n",
       "      <td>16221</td>\n",
       "      <td>9564</td>\n",
       "      <td>132</td>\n",
       "    </tr>\n",
       "    <tr>\n",
       "      <th>1</th>\n",
       "      <td>0</td>\n",
       "      <td>0</td>\n",
       "      <td>7</td>\n",
       "      <td>0</td>\n",
       "      <td>36840</td>\n",
       "      <td>2144</td>\n",
       "      <td>5221</td>\n",
       "      <td>3596</td>\n",
       "      <td>74</td>\n",
       "    </tr>\n",
       "    <tr>\n",
       "      <th>2</th>\n",
       "      <td>0</td>\n",
       "      <td>4</td>\n",
       "      <td>6</td>\n",
       "      <td>4</td>\n",
       "      <td>85930</td>\n",
       "      <td>2511</td>\n",
       "      <td>11753</td>\n",
       "      <td>9608</td>\n",
       "      <td>132</td>\n",
       "    </tr>\n",
       "    <tr>\n",
       "      <th>3</th>\n",
       "      <td>0</td>\n",
       "      <td>1</td>\n",
       "      <td>10</td>\n",
       "      <td>16</td>\n",
       "      <td>28367</td>\n",
       "      <td>879</td>\n",
       "      <td>9674</td>\n",
       "      <td>8296</td>\n",
       "      <td>37</td>\n",
       "    </tr>\n",
       "    <tr>\n",
       "      <th>4</th>\n",
       "      <td>0</td>\n",
       "      <td>2</td>\n",
       "      <td>7</td>\n",
       "      <td>4</td>\n",
       "      <td>72468</td>\n",
       "      <td>2375</td>\n",
       "      <td>13301</td>\n",
       "      <td>7106</td>\n",
       "      <td>109</td>\n",
       "    </tr>\n",
       "  </tbody>\n",
       "</table>\n",
       "</div>"
      ],
      "text/plain": [
       "   outcome  kills  deaths  assists  totalDamageDealt  damageDealtToObjectives  \\\n",
       "0        1      5       4        9            100105                     9147   \n",
       "1        0      0       7        0             36840                     2144   \n",
       "2        0      4       6        4             85930                     2511   \n",
       "3        0      1      10       16             28367                      879   \n",
       "4        0      2       7        4             72468                     2375   \n",
       "\n",
       "   totalDamageDealtToChampions  goldEarned  totalMinionsKilled  \n",
       "0                        16221        9564                 132  \n",
       "1                         5221        3596                  74  \n",
       "2                        11753        9608                 132  \n",
       "3                         9674        8296                  37  \n",
       "4                        13301        7106                 109  "
      ]
     },
     "execution_count": 8,
     "metadata": {},
     "output_type": "execute_result"
    }
   ],
   "source": [
    "data_transformed_df.head()"
   ]
  },
  {
   "cell_type": "code",
   "execution_count": 9,
   "id": "narrow-singer",
   "metadata": {},
   "outputs": [],
   "source": [
    "from sklearn.ensemble import RandomForestRegressor\n",
    "from sklearn.ensemble import GradientBoostingRegressor\n",
    "from sklearn.model_selection import train_test_split\n",
    "from sklearn.preprocessing import StandardScaler\n",
    "from sklearn.linear_model import LogisticRegression\n",
    "from sklearn.tree import DecisionTreeClassifier\n",
    "import numpy as np\n",
    "X = data_transformed_df[['kills','deaths','assists','totalDamageDealt',\n",
    "              'damageDealtToObjectives','totalDamageDealtToChampions','goldEarned','totalMinionsKilled']]\n",
    "y = data_transformed_df['outcome']\n",
    "X_train, X_test, y_train, y_test = train_test_split(X, y)"
   ]
  },
  {
   "cell_type": "code",
   "execution_count": 10,
   "id": "meaning-receipt",
   "metadata": {},
   "outputs": [
    {
     "name": "stdout",
     "output_type": "stream",
     "text": [
      "    kills  deaths  assists  totalDamageDealt  damageDealtToObjectives  \\\n",
      "74      2       3        2            107085                      929   \n",
      "19      7       0        7            202949                    26872   \n",
      "50      2       6        0             68349                      849   \n",
      "82      3       6       29            392265                    13390   \n",
      "8      10       6       18            141475                     5612   \n",
      "40      2       7       20             38095                     5678   \n",
      "90      2       5        5             97058                       94   \n",
      "5       2       6        1             86829                     4255   \n",
      "3       1      10       16             28367                      879   \n",
      "80      9       6       23            148840                    16462   \n",
      "54      3       2        5            135341                     6425   \n",
      "94      0       3        1             58433                        0   \n",
      "78      7       5       15            179240                    17120   \n",
      "85      4       2        6            102839                     8661   \n",
      "29      3       4        9            142524                     3691   \n",
      "63      4       7       14            127882                     3094   \n",
      "6       4       6        6            104725                     2989   \n",
      "25      1       8        2             25056                        0   \n",
      "58      6       7       16            189268                    10464   \n",
      "66      0       2        4             14173                      170   \n",
      "76      9       4        6            176267                    14695   \n",
      "92      2       1        3             59935                     1375   \n",
      "51      2       6        0             99291                      960   \n",
      "87      6       9        1            107035                     7423   \n",
      "43      1       7       21            338378                     5960   \n",
      "\n",
      "    totalDamageDealtToChampions  goldEarned  totalMinionsKilled  \n",
      "74                         6948        7658                 165  \n",
      "19                        17878       14944                 236  \n",
      "50                         6630        6776                 134  \n",
      "82                        15289       12674                  21  \n",
      "8                         29312       14664                 157  \n",
      "40                         8829       10681                  57  \n",
      "90                        10067        9802                 176  \n",
      "5                          7367        8089                 164  \n",
      "3                          9674        8296                  37  \n",
      "80                        26557       14655                 154  \n",
      "54                        10214        9936                 175  \n",
      "94                         7936        4566                 114  \n",
      "78                        25944       13295                 171  \n",
      "85                        14803       10109                 156  \n",
      "29                        19640       12195                 182  \n",
      "63                        16088       10453                 126  \n",
      "6                         17214        9538                 165  \n",
      "25                         4687        4716                  35  \n",
      "58                        24333       14034                 202  \n",
      "66                         2456        3360                  44  \n",
      "76                        27511       13530                 189  \n",
      "92                         3740        6358                 111  \n",
      "51                        13604        8269                 169  \n",
      "87                        12013       10847                 154  \n",
      "43                         9032        9753                  18  \n",
      "              precision    recall  f1-score   support\n",
      "\n",
      "           0       0.75      0.92      0.83        13\n",
      "           1       0.89      0.67      0.76        12\n",
      "\n",
      "    accuracy                           0.80        25\n",
      "   macro avg       0.82      0.79      0.79        25\n",
      "weighted avg       0.82      0.80      0.80        25\n",
      "\n"
     ]
    }
   ],
   "source": [
    "from sklearn.metrics import classification_report\n",
    "model = DecisionTreeClassifier()\n",
    "model.fit(X_train, y_train)\n",
    "y_pred = model.predict(X_test)\n",
    "y_prob = model.predict_proba(X_test)\n",
    "y_prob = y_prob[:,1]\n",
    "print(X_test)\n",
    "print(classification_report(y_test, y_pred))"
   ]
  },
  {
   "cell_type": "code",
   "execution_count": 11,
   "id": "meaning-elephant",
   "metadata": {},
   "outputs": [
    {
     "data": {
      "text/plain": [
       "Text(0.5, 1.0, 'HULKSMASH1337')"
      ]
     },
     "execution_count": 11,
     "metadata": {},
     "output_type": "execute_result"
    },
    {
     "data": {
      "image/png": "[encoded data removed]",
      "text/plain": [
       "<Figure size 432x288 with 1 Axes>"
      ]
     },
     "metadata": {
      "needs_background": "light"
     },
     "output_type": "display_data"
    }
   ],
   "source": [
    "feature_imp = pd.Series(model.feature_importances_,index=X.columns).sort_values(ascending=False)\n",
    "import seaborn as sns\n",
    "import matplotlib.pyplot as plt\n",
    "plot1 = plt.figure(1)\n",
    "sns.barplot(x=feature_imp,y=feature_imp.index)\n",
    "plt.xlabel('Feature Importance')\n",
    "plt.ylabel('Features')\n",
    "plt.title(string_ID)"
   ]
  },
  {
   "cell_type": "code",
   "execution_count": 25,
   "id": "contemporary-luxembourg",
   "metadata": {},
   "outputs": [
    {
     "data": {
      "text/html": [
       "<div>\n",
       "<style scoped>\n",
       "    .dataframe tbody tr th:only-of-type {\n",
       "        vertical-align: middle;\n",
       "    }\n",
       "\n",
       "    .dataframe tbody tr th {\n",
       "        vertical-align: top;\n",
       "    }\n",
       "\n",
       "    .dataframe thead th {\n",
       "        text-align: right;\n",
       "    }\n",
       "</style>\n",
       "<table border=\"1\" class=\"dataframe\">\n",
       "  <thead>\n",
       "    <tr style=\"text-align: right;\">\n",
       "      <th></th>\n",
       "      <th>kills</th>\n",
       "      <th>deaths</th>\n",
       "      <th>assists</th>\n",
       "      <th>totalDamageDealt</th>\n",
       "      <th>damageDealtToObjectives</th>\n",
       "      <th>totalDamageDealtToChampions</th>\n",
       "      <th>goldEarned</th>\n",
       "      <th>totalMinionsKilled</th>\n",
       "    </tr>\n",
       "  </thead>\n",
       "  <tbody>\n",
       "    <tr>\n",
       "      <th>0</th>\n",
       "      <td>4.010101</td>\n",
       "      <td>4.676768</td>\n",
       "      <td>7.141414</td>\n",
       "      <td>115629.555556</td>\n",
       "      <td>7016.484848</td>\n",
       "      <td>13268.313131</td>\n",
       "      <td>9787.373737</td>\n",
       "      <td>141.040404</td>\n",
       "    </tr>\n",
       "  </tbody>\n",
       "</table>\n",
       "</div>"
      ],
      "text/plain": [
       "      kills    deaths   assists  totalDamageDealt  damageDealtToObjectives  \\\n",
       "0  4.010101  4.676768  7.141414     115629.555556              7016.484848   \n",
       "\n",
       "   totalDamageDealtToChampions   goldEarned  totalMinionsKilled  \n",
       "0                 13268.313131  9787.373737          141.040404  "
      ]
     },
     "execution_count": 25,
     "metadata": {},
     "output_type": "execute_result"
    }
   ],
   "source": [
    "# df2 = data_transformed_df.iloc[[0]]\n",
    "# DF1 = df2.drop(columns=['outcome'])\n",
    "mean_data = data_transformed_df.mean(axis=0)\n",
    "mean_data.to_frame().T.drop(columns=['outcome'])"
   ]
  },
  {
   "cell_type": "code",
   "execution_count": 20,
   "id": "sacred-mechanism",
   "metadata": {},
   "outputs": [
    {
     "ename": "ValueError",
     "evalue": "Expected 2D array, got 1D array instead:\narray=[4.74747479e-01 4.01010084e+00 4.67676783e+00 7.14141417e+00\n 1.15629555e+05 7.01648486e+03 1.32683135e+04 9.78737402e+03\n 1.41040405e+02].\nReshape your data either using array.reshape(-1, 1) if your data has a single feature or array.reshape(1, -1) if it contains a single sample.",
     "output_type": "error",
     "traceback": [
      "\u001b[0;31m---------------------------------------------------------------------------\u001b[0m",
      "\u001b[0;31mValueError\u001b[0m                                Traceback (most recent call last)",
      "\u001b[0;32m<ipython-input-20-c67ef675858d>\u001b[0m in \u001b[0;36m<module>\u001b[0;34m\u001b[0m\n\u001b[0;32m----> 1\u001b[0;31m \u001b[0my_pred\u001b[0m \u001b[0;34m=\u001b[0m \u001b[0mmodel\u001b[0m\u001b[0;34m.\u001b[0m\u001b[0mpredict\u001b[0m\u001b[0;34m(\u001b[0m\u001b[0mmean_data_run\u001b[0m\u001b[0;34m)\u001b[0m\u001b[0;34m\u001b[0m\u001b[0;34m\u001b[0m\u001b[0m\n\u001b[0m\u001b[1;32m      2\u001b[0m \u001b[0;32mif\u001b[0m \u001b[0my_pred\u001b[0m \u001b[0;34m==\u001b[0m \u001b[0;36m1\u001b[0m\u001b[0;34m:\u001b[0m\u001b[0;34m\u001b[0m\u001b[0;34m\u001b[0m\u001b[0m\n\u001b[1;32m      3\u001b[0m     \u001b[0mprint\u001b[0m\u001b[0;34m(\u001b[0m\u001b[0;34m'The predicted outcome of the last game was a win'\u001b[0m\u001b[0;34m)\u001b[0m\u001b[0;34m\u001b[0m\u001b[0;34m\u001b[0m\u001b[0m\n\u001b[1;32m      4\u001b[0m \u001b[0;32melse\u001b[0m\u001b[0;34m:\u001b[0m\u001b[0;34m\u001b[0m\u001b[0;34m\u001b[0m\u001b[0m\n\u001b[1;32m      5\u001b[0m     \u001b[0mprint\u001b[0m\u001b[0;34m(\u001b[0m\u001b[0;34m'The predicted outcome of the last game was a loss'\u001b[0m\u001b[0;34m)\u001b[0m\u001b[0;34m\u001b[0m\u001b[0;34m\u001b[0m\u001b[0m\n",
      "\u001b[0;32m~/anaconda3/envs/Tyler1Predictor/lib/python3.9/site-packages/sklearn/tree/_classes.py\u001b[0m in \u001b[0;36mpredict\u001b[0;34m(self, X, check_input)\u001b[0m\n\u001b[1;32m    435\u001b[0m         \"\"\"\n\u001b[1;32m    436\u001b[0m         \u001b[0mcheck_is_fitted\u001b[0m\u001b[0;34m(\u001b[0m\u001b[0mself\u001b[0m\u001b[0;34m)\u001b[0m\u001b[0;34m\u001b[0m\u001b[0;34m\u001b[0m\u001b[0m\n\u001b[0;32m--> 437\u001b[0;31m         \u001b[0mX\u001b[0m \u001b[0;34m=\u001b[0m \u001b[0mself\u001b[0m\u001b[0;34m.\u001b[0m\u001b[0m_validate_X_predict\u001b[0m\u001b[0;34m(\u001b[0m\u001b[0mX\u001b[0m\u001b[0;34m,\u001b[0m \u001b[0mcheck_input\u001b[0m\u001b[0;34m)\u001b[0m\u001b[0;34m\u001b[0m\u001b[0;34m\u001b[0m\u001b[0m\n\u001b[0m\u001b[1;32m    438\u001b[0m         \u001b[0mproba\u001b[0m \u001b[0;34m=\u001b[0m \u001b[0mself\u001b[0m\u001b[0;34m.\u001b[0m\u001b[0mtree_\u001b[0m\u001b[0;34m.\u001b[0m\u001b[0mpredict\u001b[0m\u001b[0;34m(\u001b[0m\u001b[0mX\u001b[0m\u001b[0;34m)\u001b[0m\u001b[0;34m\u001b[0m\u001b[0;34m\u001b[0m\u001b[0m\n\u001b[1;32m    439\u001b[0m         \u001b[0mn_samples\u001b[0m \u001b[0;34m=\u001b[0m \u001b[0mX\u001b[0m\u001b[0;34m.\u001b[0m\u001b[0mshape\u001b[0m\u001b[0;34m[\u001b[0m\u001b[0;36m0\u001b[0m\u001b[0;34m]\u001b[0m\u001b[0;34m\u001b[0m\u001b[0;34m\u001b[0m\u001b[0m\n",
      "\u001b[0;32m~/anaconda3/envs/Tyler1Predictor/lib/python3.9/site-packages/sklearn/tree/_classes.py\u001b[0m in \u001b[0;36m_validate_X_predict\u001b[0;34m(self, X, check_input)\u001b[0m\n\u001b[1;32m    400\u001b[0m         \u001b[0;34m\"\"\"Validate the training data on predict (probabilities).\"\"\"\u001b[0m\u001b[0;34m\u001b[0m\u001b[0;34m\u001b[0m\u001b[0m\n\u001b[1;32m    401\u001b[0m         \u001b[0;32mif\u001b[0m \u001b[0mcheck_input\u001b[0m\u001b[0;34m:\u001b[0m\u001b[0;34m\u001b[0m\u001b[0;34m\u001b[0m\u001b[0m\n\u001b[0;32m--> 402\u001b[0;31m             X = self._validate_data(X, dtype=DTYPE, accept_sparse=\"csr\",\n\u001b[0m\u001b[1;32m    403\u001b[0m                                     reset=False)\n\u001b[1;32m    404\u001b[0m             if issparse(X) and (X.indices.dtype != np.intc or\n",
      "\u001b[0;32m~/anaconda3/envs/Tyler1Predictor/lib/python3.9/site-packages/sklearn/base.py\u001b[0m in \u001b[0;36m_validate_data\u001b[0;34m(self, X, y, reset, validate_separately, **check_params)\u001b[0m\n\u001b[1;32m    419\u001b[0m             \u001b[0mout\u001b[0m \u001b[0;34m=\u001b[0m \u001b[0mX\u001b[0m\u001b[0;34m\u001b[0m\u001b[0;34m\u001b[0m\u001b[0m\n\u001b[1;32m    420\u001b[0m         \u001b[0;32melif\u001b[0m \u001b[0misinstance\u001b[0m\u001b[0;34m(\u001b[0m\u001b[0my\u001b[0m\u001b[0;34m,\u001b[0m \u001b[0mstr\u001b[0m\u001b[0;34m)\u001b[0m \u001b[0;32mand\u001b[0m \u001b[0my\u001b[0m \u001b[0;34m==\u001b[0m \u001b[0;34m'no_validation'\u001b[0m\u001b[0;34m:\u001b[0m\u001b[0;34m\u001b[0m\u001b[0;34m\u001b[0m\u001b[0m\n\u001b[0;32m--> 421\u001b[0;31m             \u001b[0mX\u001b[0m \u001b[0;34m=\u001b[0m \u001b[0mcheck_array\u001b[0m\u001b[0;34m(\u001b[0m\u001b[0mX\u001b[0m\u001b[0;34m,\u001b[0m \u001b[0;34m**\u001b[0m\u001b[0mcheck_params\u001b[0m\u001b[0;34m)\u001b[0m\u001b[0;34m\u001b[0m\u001b[0;34m\u001b[0m\u001b[0m\n\u001b[0m\u001b[1;32m    422\u001b[0m             \u001b[0mout\u001b[0m \u001b[0;34m=\u001b[0m \u001b[0mX\u001b[0m\u001b[0;34m\u001b[0m\u001b[0;34m\u001b[0m\u001b[0m\n\u001b[1;32m    423\u001b[0m         \u001b[0;32melse\u001b[0m\u001b[0;34m:\u001b[0m\u001b[0;34m\u001b[0m\u001b[0;34m\u001b[0m\u001b[0m\n",
      "\u001b[0;32m~/anaconda3/envs/Tyler1Predictor/lib/python3.9/site-packages/sklearn/utils/validation.py\u001b[0m in \u001b[0;36minner_f\u001b[0;34m(*args, **kwargs)\u001b[0m\n\u001b[1;32m     61\u001b[0m             \u001b[0mextra_args\u001b[0m \u001b[0;34m=\u001b[0m \u001b[0mlen\u001b[0m\u001b[0;34m(\u001b[0m\u001b[0margs\u001b[0m\u001b[0;34m)\u001b[0m \u001b[0;34m-\u001b[0m \u001b[0mlen\u001b[0m\u001b[0;34m(\u001b[0m\u001b[0mall_args\u001b[0m\u001b[0;34m)\u001b[0m\u001b[0;34m\u001b[0m\u001b[0;34m\u001b[0m\u001b[0m\n\u001b[1;32m     62\u001b[0m             \u001b[0;32mif\u001b[0m \u001b[0mextra_args\u001b[0m \u001b[0;34m<=\u001b[0m \u001b[0;36m0\u001b[0m\u001b[0;34m:\u001b[0m\u001b[0;34m\u001b[0m\u001b[0;34m\u001b[0m\u001b[0m\n\u001b[0;32m---> 63\u001b[0;31m                 \u001b[0;32mreturn\u001b[0m \u001b[0mf\u001b[0m\u001b[0;34m(\u001b[0m\u001b[0;34m*\u001b[0m\u001b[0margs\u001b[0m\u001b[0;34m,\u001b[0m \u001b[0;34m**\u001b[0m\u001b[0mkwargs\u001b[0m\u001b[0;34m)\u001b[0m\u001b[0;34m\u001b[0m\u001b[0;34m\u001b[0m\u001b[0m\n\u001b[0m\u001b[1;32m     64\u001b[0m \u001b[0;34m\u001b[0m\u001b[0m\n\u001b[1;32m     65\u001b[0m             \u001b[0;31m# extra_args > 0\u001b[0m\u001b[0;34m\u001b[0m\u001b[0;34m\u001b[0m\u001b[0;34m\u001b[0m\u001b[0m\n",
      "\u001b[0;32m~/anaconda3/envs/Tyler1Predictor/lib/python3.9/site-packages/sklearn/utils/validation.py\u001b[0m in \u001b[0;36mcheck_array\u001b[0;34m(array, accept_sparse, accept_large_sparse, dtype, order, copy, force_all_finite, ensure_2d, allow_nd, ensure_min_samples, ensure_min_features, estimator)\u001b[0m\n\u001b[1;32m    635\u001b[0m             \u001b[0;31m# If input is 1D raise error\u001b[0m\u001b[0;34m\u001b[0m\u001b[0;34m\u001b[0m\u001b[0;34m\u001b[0m\u001b[0m\n\u001b[1;32m    636\u001b[0m             \u001b[0;32mif\u001b[0m \u001b[0marray\u001b[0m\u001b[0;34m.\u001b[0m\u001b[0mndim\u001b[0m \u001b[0;34m==\u001b[0m \u001b[0;36m1\u001b[0m\u001b[0;34m:\u001b[0m\u001b[0;34m\u001b[0m\u001b[0;34m\u001b[0m\u001b[0m\n\u001b[0;32m--> 637\u001b[0;31m                 raise ValueError(\n\u001b[0m\u001b[1;32m    638\u001b[0m                     \u001b[0;34m\"Expected 2D array, got 1D array instead:\\narray={}.\\n\"\u001b[0m\u001b[0;34m\u001b[0m\u001b[0;34m\u001b[0m\u001b[0m\n\u001b[1;32m    639\u001b[0m                     \u001b[0;34m\"Reshape your data either using array.reshape(-1, 1) if \"\u001b[0m\u001b[0;34m\u001b[0m\u001b[0;34m\u001b[0m\u001b[0m\n",
      "\u001b[0;31mValueError\u001b[0m: Expected 2D array, got 1D array instead:\narray=[4.74747479e-01 4.01010084e+00 4.67676783e+00 7.14141417e+00\n 1.15629555e+05 7.01648486e+03 1.32683135e+04 9.78737402e+03\n 1.41040405e+02].\nReshape your data either using array.reshape(-1, 1) if your data has a single feature or array.reshape(1, -1) if it contains a single sample."
     ]
    }
   ],
   "source": [
    "y_pred = model.predict(mean_data)\n",
    "if y_pred == 1:\n",
    "    print('The predicted outcome of the last game was a win')\n",
    "else:\n",
    "    print('The predicted outcome of the last game was a loss')"
   ]
  },
  {
   "cell_type": "code",
   "execution_count": null,
   "id": "incorporated-rates",
   "metadata": {},
   "outputs": [],
   "source": [
    "#watcher.spectator.by_summoner(my_region,lol_tyler_1['id'])\n",
    "plt.plot(y_test,'o', color='black')"
   ]
  },
  {
   "cell_type": "markdown",
   "id": "significant-kenya",
   "metadata": {},
   "source": [
    "## Use seglearn to predict the trajectory of the next game?"
   ]
  },
  {
   "cell_type": "code",
   "execution_count": null,
   "id": "special-plasma",
   "metadata": {},
   "outputs": [],
   "source": []
  }
 ],
 "metadata": {
  "kernelspec": {
   "display_name": "Python 3",
   "language": "python",
   "name": "python3"
  },
  "language_info": {
   "codemirror_mode": {
    "name": "ipython",
    "version": 3
   },
   "file_extension": ".py",
   "mimetype": "text/x-python",
   "name": "python",
   "nbconvert_exporter": "python",
   "pygments_lexer": "ipython3",
   "version": "3.9.2"
  }
 },
 "nbformat": 4,
 "nbformat_minor": 5
}

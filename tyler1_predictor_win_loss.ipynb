{
 "cells": [
  {
   "cell_type": "code",
   "execution_count": 1,
   "id": "adult-chaos",
   "metadata": {},
   "outputs": [
    {
     "name": "stdout",
     "output_type": "stream",
     "text": [
      "{'id': 'wzoROkOGV256lDuraz1SmF44aWZA23P_2xxNQqGxg0mZLqpn', 'accountId': 'LmXEidbyDIZ39ZzRRAngA7gA6wcxVN1fQEX1PwvyLq2ELFi3vP2ka_4N', 'puuid': 'lZRdO2wVxiR0YDg6ElcZD4uhXHhJNN49pCwxPLIHlQgo0pBJ8_TArbJaTkNp6NMKTLO8cPKPmhf1lQ', 'name': 'HULKSMASH1337', 'profileIconId': 3546, 'revisionDate': 1615616858000, 'summonerLevel': 217}\n"
     ]
    }
   ],
   "source": [
    "from riotwatcher import LolWatcher, ApiError\n",
    "import pandas as pd\n",
    "api_key = 'RGAPI-a4de2f58-c735-4172-a0fc-f8e553c47bc0'\n",
    "watcher = LolWatcher(api_key)\n",
    "my_region = 'na1'\n",
    "string_ID = 'HULKSMASH1337'\n",
    "lol_tyler_1 = watcher.summoner.by_name(my_region, string_ID)\n",
    "print(lol_tyler_1)"
   ]
  },
  {
   "cell_type": "code",
   "execution_count": 2,
   "id": "written-hungarian",
   "metadata": {},
   "outputs": [],
   "source": [
    "my_matches = watcher.match.matchlist_by_account(my_region,\n",
    "                                                lol_tyler_1['accountId'])"
   ]
  },
  {
   "cell_type": "code",
   "execution_count": 3,
   "id": "bigger-garlic",
   "metadata": {},
   "outputs": [],
   "source": [
    "count =0;                                                                       \n",
    "for matchData in my_matches['matches']:\n",
    "        count = count +1"
   ]
  },
  {
   "cell_type": "code",
   "execution_count": 4,
   "id": "logical-calgary",
   "metadata": {},
   "outputs": [],
   "source": [
    "participants =[]\n",
    "alldata = {}\n",
    "summoners = pd.DataFrame\n",
    "counter = 0\n",
    "for allMatch in range(count-1):\n",
    "    last_match = my_matches['matches'][allMatch]\n",
    "    match_detail = watcher.match.by_id(my_region, last_match['gameId'])\n",
    "    find_tyler = match_detail['participants']\n",
    "    for names in match_detail['participantIdentities']:                     \n",
    "        rowSum = {}                                                         \n",
    "        rowSum['Game #'] = allMatch                                         \n",
    "        rowSum['Participant ID']= names['participantId']                    \n",
    "        rowSum['Summoner Name'] = names['player']['summonerName']\n",
    "        if names['player']['summonerName'] == string_ID:\n",
    "            summoner_ID = rowSum['Participant ID']\n",
    "            for row in find_tyler:\n",
    "                stats_row = row['stats']\n",
    "                if stats_row['participantId'] == summoner_ID:\n",
    "                    instance_df = pd.DataFrame\n",
    "                    summoner_stats ={}\n",
    "                    #summoner_stats['outcome'] = stats_row['win']\n",
    "                    if stats_row['win'] == True:\n",
    "                        summoner_stats['outcome'] = 1\n",
    "                    else:\n",
    "                        summoner_stats['outcome'] = 0\n",
    "                    summoner_stats['kills'] = stats_row['kills']\n",
    "                    summoner_stats['deaths'] = stats_row['deaths']\n",
    "                    summoner_stats['assists'] = stats_row['assists']\n",
    "                    summoner_stats['totalDamageDealt'] = stats_row['totalDamageDealt']\n",
    "                    summoner_stats['damageDealtToObjectives'] = stats_row['damageDealtToObjectives']\n",
    "                    summoner_stats['totalDamageDealtToChampions'] = stats_row['totalDamageDealtToChampions']\n",
    "                    summoner_stats['goldEarned'] = stats_row['goldEarned']\n",
    "                    summoner_stats['totalMinionsKilled'] = stats_row['totalMinionsKilled']\n",
    "                    #final_data =  pd.DataFrame(summoner_stats, index=[counter])\n",
    "                    alldata[counter] = summoner_stats\n",
    "                    #summoners = summoners.append(summoner_stats, ignore_index=True)\n",
    "                    counter = counter +1\n",
    "                    #instance_df = pd.DataFrame.from_dict(summoner_stats,orient='index',\n",
    "                    #                                    columns=['outcome', 'kills', 'deaths', 'assists',\n",
    "                    #                                            'totalDamageDealt', 'damageDealtToObjectives',\n",
    "                    #                                             'goldEarned', 'totalMinionsKilled'])\n",
    "                    \n",
    "                \n",
    "            \n",
    "                                                                    \n",
    "# #         part_row['Game #'] = allMatch                                           \n",
    "#         #part_row['champion'] = row['championId']                                \n",
    "#          part_row['statsData'] = row['stats']        \n",
    "#          print(part_row)\n",
    "# #         participants.append(part_row)                                           \n",
    "# #         df = pd.DataFrame(participants)                                         \n",
    "# #         summoners = []                                                            \n",
    "    #data = dict(zip(allMatch,\n",
    "                    #np.random.randint(10, size=5)))\n",
    "    #match_pandas['Game #'] = [allMatch]\n",
    "    #match_pandas['champion'] = row['championId']\n",
    "    #match_pandas['win'] = row['stats']['win']\n",
    "    #if allMatch == 1:\n",
    "    #    print(match_detail['stats'])"
   ]
  },
  {
   "cell_type": "code",
   "execution_count": 5,
   "id": "operating-rehabilitation",
   "metadata": {},
   "outputs": [],
   "source": [
    "data_transformed_df = pd.DataFrame.from_dict(alldata).T"
   ]
  },
  {
   "cell_type": "code",
   "execution_count": 6,
   "id": "clinical-salmon",
   "metadata": {},
   "outputs": [
    {
     "data": {
      "text/html": [
       "<div>\n",
       "<style scoped>\n",
       "    .dataframe tbody tr th:only-of-type {\n",
       "        vertical-align: middle;\n",
       "    }\n",
       "\n",
       "    .dataframe tbody tr th {\n",
       "        vertical-align: top;\n",
       "    }\n",
       "\n",
       "    .dataframe thead th {\n",
       "        text-align: right;\n",
       "    }\n",
       "</style>\n",
       "<table border=\"1\" class=\"dataframe\">\n",
       "  <thead>\n",
       "    <tr style=\"text-align: right;\">\n",
       "      <th></th>\n",
       "      <th>outcome</th>\n",
       "      <th>kills</th>\n",
       "      <th>deaths</th>\n",
       "      <th>assists</th>\n",
       "      <th>totalDamageDealt</th>\n",
       "      <th>damageDealtToObjectives</th>\n",
       "      <th>totalDamageDealtToChampions</th>\n",
       "      <th>goldEarned</th>\n",
       "      <th>totalMinionsKilled</th>\n",
       "    </tr>\n",
       "  </thead>\n",
       "  <tbody>\n",
       "    <tr>\n",
       "      <th>0</th>\n",
       "      <td>1</td>\n",
       "      <td>5</td>\n",
       "      <td>4</td>\n",
       "      <td>9</td>\n",
       "      <td>100105</td>\n",
       "      <td>9147</td>\n",
       "      <td>16221</td>\n",
       "      <td>9564</td>\n",
       "      <td>132</td>\n",
       "    </tr>\n",
       "    <tr>\n",
       "      <th>1</th>\n",
       "      <td>0</td>\n",
       "      <td>0</td>\n",
       "      <td>7</td>\n",
       "      <td>0</td>\n",
       "      <td>36840</td>\n",
       "      <td>2144</td>\n",
       "      <td>5221</td>\n",
       "      <td>3596</td>\n",
       "      <td>74</td>\n",
       "    </tr>\n",
       "    <tr>\n",
       "      <th>2</th>\n",
       "      <td>0</td>\n",
       "      <td>4</td>\n",
       "      <td>6</td>\n",
       "      <td>4</td>\n",
       "      <td>85930</td>\n",
       "      <td>2511</td>\n",
       "      <td>11753</td>\n",
       "      <td>9608</td>\n",
       "      <td>132</td>\n",
       "    </tr>\n",
       "    <tr>\n",
       "      <th>3</th>\n",
       "      <td>0</td>\n",
       "      <td>1</td>\n",
       "      <td>10</td>\n",
       "      <td>16</td>\n",
       "      <td>28367</td>\n",
       "      <td>879</td>\n",
       "      <td>9674</td>\n",
       "      <td>8296</td>\n",
       "      <td>37</td>\n",
       "    </tr>\n",
       "    <tr>\n",
       "      <th>4</th>\n",
       "      <td>0</td>\n",
       "      <td>2</td>\n",
       "      <td>7</td>\n",
       "      <td>4</td>\n",
       "      <td>72468</td>\n",
       "      <td>2375</td>\n",
       "      <td>13301</td>\n",
       "      <td>7106</td>\n",
       "      <td>109</td>\n",
       "    </tr>\n",
       "  </tbody>\n",
       "</table>\n",
       "</div>"
      ],
      "text/plain": [
       "   outcome  kills  deaths  assists  totalDamageDealt  damageDealtToObjectives  \\\n",
       "0        1      5       4        9            100105                     9147   \n",
       "1        0      0       7        0             36840                     2144   \n",
       "2        0      4       6        4             85930                     2511   \n",
       "3        0      1      10       16             28367                      879   \n",
       "4        0      2       7        4             72468                     2375   \n",
       "\n",
       "   totalDamageDealtToChampions  goldEarned  totalMinionsKilled  \n",
       "0                        16221        9564                 132  \n",
       "1                         5221        3596                  74  \n",
       "2                        11753        9608                 132  \n",
       "3                         9674        8296                  37  \n",
       "4                        13301        7106                 109  "
      ]
     },
     "execution_count": 6,
     "metadata": {},
     "output_type": "execute_result"
    }
   ],
   "source": [
    "data_transformed_df.head()"
   ]
  },
  {
   "cell_type": "code",
   "execution_count": 7,
   "id": "narrow-singer",
   "metadata": {},
   "outputs": [],
   "source": [
    "from sklearn.ensemble import RandomForestRegressor\n",
    "from sklearn.ensemble import GradientBoostingRegressor\n",
    "from sklearn.model_selection import train_test_split\n",
    "from sklearn.preprocessing import StandardScaler\n",
    "from sklearn.linear_model import LogisticRegression\n",
    "from sklearn.tree import DecisionTreeClassifier\n",
    "import numpy as np\n",
    "X = data_transformed_df[['kills','deaths','assists','totalDamageDealt',\n",
    "              'damageDealtToObjectives','totalDamageDealtToChampions','goldEarned','totalMinionsKilled']]\n",
    "y = data_transformed_df['outcome']\n",
    "X_train, X_test, y_train, y_test = train_test_split(X, y)"
   ]
  },
  {
   "cell_type": "code",
   "execution_count": 8,
   "id": "meaning-receipt",
   "metadata": {},
   "outputs": [
    {
     "name": "stdout",
     "output_type": "stream",
     "text": [
      "    kills  deaths  assists  totalDamageDealt  damageDealtToObjectives  \\\n",
      "24      9       7        3            111461                     3006   \n",
      "2       4       6        4             85930                     2511   \n",
      "7       5       7        3            137672                     4583   \n",
      "83      1       4        4             40690                        0   \n",
      "61      5       7        3            129491                     2431   \n",
      "57     11       2       10            117741                    11617   \n",
      "73     12       3       11            148862                    18491   \n",
      "63      4       7       14            127882                     3094   \n",
      "29      3       4        9            142524                     3691   \n",
      "62      0       0        0              3279                        0   \n",
      "26      7      11        7            161271                     7024   \n",
      "38      1       6        2             75533                     3069   \n",
      "8      10       6       18            141475                     5612   \n",
      "47      4       8       12            151385                     4949   \n",
      "10      0       7        4             62810                     5252   \n",
      "3       1      10       16             28367                      879   \n",
      "21      6       1        2            183669                    10711   \n",
      "14      9       4        1            122656                     3097   \n",
      "31      9       4        2            107008                     2246   \n",
      "64      0       4        9            358289                     6568   \n",
      "30      4       7        6            126896                     8553   \n",
      "65      1       4       10             60024                     7293   \n",
      "52      4       4        6            146674                     9005   \n",
      "28      1       0        5             63639                     9995   \n",
      "71      1       1        4             58591                     2397   \n",
      "\n",
      "    totalDamageDealtToChampions  goldEarned  totalMinionsKilled  \n",
      "24                        16513       12789                 174  \n",
      "2                         11753        9608                 132  \n",
      "7                         24062       10754                 183  \n",
      "83                         7253        5887                  97  \n",
      "61                        25507       12160                 174  \n",
      "57                        11089       12332                 172  \n",
      "73                        27105       13484                 126  \n",
      "63                        16088       10453                 126  \n",
      "29                        19640       12195                 182  \n",
      "62                            0         933                  15  \n",
      "26                        19977       14834                 195  \n",
      "38                         9823        7334                 158  \n",
      "8                         29312       14664                 157  \n",
      "47                        15107       12088                 178  \n",
      "10                         6042        5562                 108  \n",
      "3                          9674        8296                  37  \n",
      "21                        10234       14437                 259  \n",
      "14                        18576       11289                 178  \n",
      "31                        11596       10048                 150  \n",
      "64                         6042        6973                  19  \n",
      "30                        15325       10242                 171  \n",
      "65                         6254        7627                  96  \n",
      "52                        12855       11364                 189  \n",
      "28                         4157        6634                 112  \n",
      "71                         6979        6800                 115  \n",
      "              precision    recall  f1-score   support\n",
      "\n",
      "           0       0.80      0.47      0.59        17\n",
      "           1       0.40      0.75      0.52         8\n",
      "\n",
      "    accuracy                           0.56        25\n",
      "   macro avg       0.60      0.61      0.56        25\n",
      "weighted avg       0.67      0.56      0.57        25\n",
      "\n"
     ]
    }
   ],
   "source": [
    "from sklearn.metrics import classification_report\n",
    "model = DecisionTreeClassifier()\n",
    "model.fit(X_train, y_train)\n",
    "y_pred = model.predict(X_test)\n",
    "y_prob = model.predict_proba(X_test)\n",
    "y_prob = y_prob[:,1]\n",
    "print(X_test)\n",
    "print(classification_report(y_test, y_pred))"
   ]
  },
  {
   "cell_type": "code",
   "execution_count": 9,
   "id": "meaning-elephant",
   "metadata": {},
   "outputs": [
    {
     "data": {
      "text/plain": [
       "Text(0.5, 1.0, 'HULKSMASH1337')"
      ]
     },
     "execution_count": 9,
     "metadata": {},
     "output_type": "execute_result"
    },
    {
     "data": {
      "image/png": "[encoded data removed]",
      "text/plain": [
       "<Figure size 432x288 with 1 Axes>"
      ]
     },
     "metadata": {
      "needs_background": "light"
     },
     "output_type": "display_data"
    }
   ],
   "source": [
    "feature_imp = pd.Series(model.feature_importances_,index=X.columns).sort_values(ascending=False)\n",
    "import seaborn as sns\n",
    "import matplotlib.pyplot as plt\n",
    "plot1 = plt.figure(1)\n",
    "sns.barplot(x=feature_imp,y=feature_imp.index)\n",
    "plt.xlabel('Feature Importance')\n",
    "plt.ylabel('Features')\n",
    "plt.title(string_ID)"
   ]
  },
  {
   "cell_type": "code",
   "execution_count": 10,
   "id": "contemporary-luxembourg",
   "metadata": {},
   "outputs": [],
   "source": [
    "df2 = data_transformed_df.iloc[[0]]\n",
    "DF1 = df2.drop(columns=['outcome'])"
   ]
  },
  {
   "cell_type": "code",
   "execution_count": 11,
   "id": "sacred-mechanism",
   "metadata": {},
   "outputs": [
    {
     "name": "stdout",
     "output_type": "stream",
     "text": [
      "The predicted outcome of the last game was a win\n"
     ]
    }
   ],
   "source": [
    "y_pred = model.predict(DF1)\n",
    "if y_pred == 1:\n",
    "    print('The predicted outcome of the last game was a win')\n",
    "else:\n",
    "    print('The predicted outcome of the last game was a loss')"
   ]
  },
  {
   "cell_type": "code",
   "execution_count": 14,
   "id": "incorporated-rates",
   "metadata": {},
   "outputs": [
    {
     "data": {
      "text/plain": [
       "[<matplotlib.lines.Line2D at 0x7fa403172f70>]"
      ]
     },
     "execution_count": 14,
     "metadata": {},
     "output_type": "execute_result"
    },
    {
     "data": {
      "image/png": "[encoded data removed]",
      "text/plain": [
       "<Figure size 432x288 with 1 Axes>"
      ]
     },
     "metadata": {
      "needs_background": "light"
     },
     "output_type": "display_data"
    }
   ],
   "source": [
    "#watcher.spectator.by_summoner(my_region,lol_tyler_1['id'])\n",
    "plt.plot(y_test,'o', color='black')"
   ]
  },
  {
   "cell_type": "markdown",
   "id": "significant-kenya",
   "metadata": {},
   "source": [
    "## Use seglearn to predict the trajectory of the next game?"
   ]
  },
  {
   "cell_type": "code",
   "execution_count": null,
   "id": "special-plasma",
   "metadata": {},
   "outputs": [],
   "source": []
  }
 ],
 "metadata": {
  "kernelspec": {
   "display_name": "Python 3",
   "language": "python",
   "name": "python3"
  },
  "language_info": {
   "codemirror_mode": {
    "name": "ipython",
    "version": 3
   },
   "file_extension": ".py",
   "mimetype": "text/x-python",
   "name": "python",
   "nbconvert_exporter": "python",
   "pygments_lexer": "ipython3",
   "version": "3.9.2"
  }
 },
 "nbformat": 4,
 "nbformat_minor": 5
}

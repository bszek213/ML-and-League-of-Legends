{
 "cells": [
  {
   "cell_type": "code",
   "execution_count": 1,
   "id": "adult-chaos",
   "metadata": {},
   "outputs": [
    {
     "name": "stdout",
     "output_type": "stream",
     "text": [
      "{'id': 'wzoROkOGV256lDuraz1SmF44aWZA23P_2xxNQqGxg0mZLqpn', 'accountId': 'LmXEidbyDIZ39ZzRRAngA7gA6wcxVN1fQEX1PwvyLq2ELFi3vP2ka_4N', 'puuid': 'lZRdO2wVxiR0YDg6ElcZD4uhXHhJNN49pCwxPLIHlQgo0pBJ8_TArbJaTkNp6NMKTLO8cPKPmhf1lQ', 'name': 'HULKSMASH1337', 'profileIconId': 3546, 'revisionDate': 1615616858000, 'summonerLevel': 217}\n"
     ]
    }
   ],
   "source": [
    "from riotwatcher import LolWatcher, ApiError\n",
    "import pandas as pd\n",
    "api_key = 'RGAPI-a4de2f58-c735-4172-a0fc-f8e553c47bc0'\n",
    "watcher = LolWatcher(api_key)\n",
    "my_region = 'na1'\n",
    "string_ID = 'HULKSMASH1337' #HULKSMASH1337, SentientAI, slinky boy\n",
    "lol_tyler_1 = watcher.summoner.by_name(my_region, string_ID)\n",
    "print(lol_tyler_1)"
   ]
  },
  {
   "cell_type": "code",
   "execution_count": 2,
   "id": "written-hungarian",
   "metadata": {},
   "outputs": [],
   "source": [
    "my_matches = watcher.match.matchlist_by_account(my_region,\n",
    "                                                lol_tyler_1['accountId'])"
   ]
  },
  {
   "cell_type": "code",
   "execution_count": 3,
   "id": "bigger-garlic",
   "metadata": {},
   "outputs": [],
   "source": [
    "count =0;                                                                       \n",
    "for matchData in my_matches['matches']:\n",
    "        count = count +1"
   ]
  },
  {
   "cell_type": "code",
   "execution_count": 4,
   "id": "logical-calgary",
   "metadata": {},
   "outputs": [],
   "source": [
    "participants =[]\n",
    "alldata = {}\n",
    "summoners = pd.DataFrame\n",
    "counter = 0\n",
    "for allMatch in range(count-1):\n",
    "    last_match = my_matches['matches'][allMatch]\n",
    "    match_detail = watcher.match.by_id(my_region, last_match['gameId'])\n",
    "    find_tyler = match_detail['participants']\n",
    "    for names in match_detail['participantIdentities']:                     \n",
    "        rowSum = {}                                                         \n",
    "        rowSum['Game #'] = allMatch                                         \n",
    "        rowSum['Participant ID']= names['participantId']                    \n",
    "        rowSum['Summoner Name'] = names['player']['summonerName']\n",
    "        if names['player']['summonerName'] == string_ID:\n",
    "            summoner_ID = rowSum['Participant ID']\n",
    "            for row in find_tyler:\n",
    "                stats_row = row['stats']\n",
    "                if stats_row['participantId'] == summoner_ID:\n",
    "                    instance_df = pd.DataFrame\n",
    "                    summoner_stats ={}\n",
    "                    #summoner_stats['outcome'] = stats_row['win']\n",
    "                    if stats_row['win'] == True:\n",
    "                        summoner_stats['outcome'] = 1\n",
    "                    else:\n",
    "                        summoner_stats['outcome'] = 0\n",
    "                    summoner_stats['kills'] = stats_row['kills']\n",
    "                    summoner_stats['deaths'] = stats_row['deaths']\n",
    "                    summoner_stats['assists'] = stats_row['assists']\n",
    "                    summoner_stats['totalDamageDealt'] = stats_row['totalDamageDealt']\n",
    "                    summoner_stats['damageDealtToObjectives'] = stats_row['damageDealtToObjectives']\n",
    "                    summoner_stats['totalDamageDealtToChampions'] = stats_row['totalDamageDealtToChampions']\n",
    "                    summoner_stats['goldEarned'] = stats_row['goldEarned']\n",
    "                    summoner_stats['totalMinionsKilled'] = stats_row['totalMinionsKilled']\n",
    "                    alldata[counter] = summoner_stats\n",
    "                    counter = counter +1         "
   ]
  },
  {
   "cell_type": "code",
   "execution_count": 5,
   "id": "operating-rehabilitation",
   "metadata": {},
   "outputs": [],
   "source": [
    "data_transformed_df = pd.DataFrame.from_dict(alldata).T"
   ]
  },
  {
   "cell_type": "code",
   "execution_count": 6,
   "id": "clinical-salmon",
   "metadata": {},
   "outputs": [
    {
     "data": {
      "text/html": [
       "<div>\n",
       "<style scoped>\n",
       "    .dataframe tbody tr th:only-of-type {\n",
       "        vertical-align: middle;\n",
       "    }\n",
       "\n",
       "    .dataframe tbody tr th {\n",
       "        vertical-align: top;\n",
       "    }\n",
       "\n",
       "    .dataframe thead th {\n",
       "        text-align: right;\n",
       "    }\n",
       "</style>\n",
       "<table border=\"1\" class=\"dataframe\">\n",
       "  <thead>\n",
       "    <tr style=\"text-align: right;\">\n",
       "      <th></th>\n",
       "      <th>outcome</th>\n",
       "      <th>kills</th>\n",
       "      <th>deaths</th>\n",
       "      <th>assists</th>\n",
       "      <th>totalDamageDealt</th>\n",
       "      <th>damageDealtToObjectives</th>\n",
       "      <th>totalDamageDealtToChampions</th>\n",
       "      <th>goldEarned</th>\n",
       "      <th>totalMinionsKilled</th>\n",
       "    </tr>\n",
       "  </thead>\n",
       "  <tbody>\n",
       "    <tr>\n",
       "      <th>0</th>\n",
       "      <td>1</td>\n",
       "      <td>3</td>\n",
       "      <td>1</td>\n",
       "      <td>3</td>\n",
       "      <td>97463</td>\n",
       "      <td>9610</td>\n",
       "      <td>7984</td>\n",
       "      <td>8794</td>\n",
       "      <td>143</td>\n",
       "    </tr>\n",
       "    <tr>\n",
       "      <th>1</th>\n",
       "      <td>1</td>\n",
       "      <td>4</td>\n",
       "      <td>4</td>\n",
       "      <td>9</td>\n",
       "      <td>113245</td>\n",
       "      <td>8759</td>\n",
       "      <td>19360</td>\n",
       "      <td>10860</td>\n",
       "      <td>160</td>\n",
       "    </tr>\n",
       "    <tr>\n",
       "      <th>2</th>\n",
       "      <td>1</td>\n",
       "      <td>5</td>\n",
       "      <td>4</td>\n",
       "      <td>9</td>\n",
       "      <td>100105</td>\n",
       "      <td>9147</td>\n",
       "      <td>16221</td>\n",
       "      <td>9564</td>\n",
       "      <td>132</td>\n",
       "    </tr>\n",
       "    <tr>\n",
       "      <th>3</th>\n",
       "      <td>0</td>\n",
       "      <td>0</td>\n",
       "      <td>7</td>\n",
       "      <td>0</td>\n",
       "      <td>36840</td>\n",
       "      <td>2144</td>\n",
       "      <td>5221</td>\n",
       "      <td>3596</td>\n",
       "      <td>74</td>\n",
       "    </tr>\n",
       "    <tr>\n",
       "      <th>4</th>\n",
       "      <td>0</td>\n",
       "      <td>4</td>\n",
       "      <td>6</td>\n",
       "      <td>4</td>\n",
       "      <td>85930</td>\n",
       "      <td>2511</td>\n",
       "      <td>11753</td>\n",
       "      <td>9608</td>\n",
       "      <td>132</td>\n",
       "    </tr>\n",
       "  </tbody>\n",
       "</table>\n",
       "</div>"
      ],
      "text/plain": [
       "   outcome  kills  deaths  assists  totalDamageDealt  damageDealtToObjectives  \\\n",
       "0        1      3       1        3             97463                     9610   \n",
       "1        1      4       4        9            113245                     8759   \n",
       "2        1      5       4        9            100105                     9147   \n",
       "3        0      0       7        0             36840                     2144   \n",
       "4        0      4       6        4             85930                     2511   \n",
       "\n",
       "   totalDamageDealtToChampions  goldEarned  totalMinionsKilled  \n",
       "0                         7984        8794                 143  \n",
       "1                        19360       10860                 160  \n",
       "2                        16221        9564                 132  \n",
       "3                         5221        3596                  74  \n",
       "4                        11753        9608                 132  "
      ]
     },
     "execution_count": 6,
     "metadata": {},
     "output_type": "execute_result"
    }
   ],
   "source": [
    "data_transformed_df.head()"
   ]
  },
  {
   "cell_type": "code",
   "execution_count": 7,
   "id": "narrow-singer",
   "metadata": {},
   "outputs": [],
   "source": [
    "from sklearn.ensemble import RandomForestRegressor\n",
    "from sklearn.ensemble import GradientBoostingRegressor\n",
    "from sklearn.model_selection import train_test_split\n",
    "from sklearn.preprocessing import StandardScaler\n",
    "from sklearn.linear_model import LogisticRegression\n",
    "from sklearn.tree import DecisionTreeClassifier\n",
    "import numpy as np\n",
    "X = data_transformed_df[['kills','deaths','assists','totalDamageDealt',\n",
    "              'damageDealtToObjectives','totalDamageDealtToChampions','goldEarned','totalMinionsKilled']]\n",
    "y = data_transformed_df['outcome']\n",
    "X_train, X_test, y_train, y_test = train_test_split(X, y)"
   ]
  },
  {
   "cell_type": "code",
   "execution_count": 8,
   "id": "meaning-receipt",
   "metadata": {},
   "outputs": [
    {
     "name": "stdout",
     "output_type": "stream",
     "text": [
      "              precision    recall  f1-score   support\n",
      "\n",
      "           0       0.78      0.64      0.70        11\n",
      "           1       0.75      0.86      0.80        14\n",
      "\n",
      "    accuracy                           0.76        25\n",
      "   macro avg       0.76      0.75      0.75        25\n",
      "weighted avg       0.76      0.76      0.76        25\n",
      "\n"
     ]
    }
   ],
   "source": [
    "from sklearn.metrics import classification_report\n",
    "model = DecisionTreeClassifier()\n",
    "model.fit(X_train, y_train)\n",
    "y_pred = model.predict(X_test)\n",
    "y_prob = model.predict_proba(X_test)\n",
    "y_prob = y_prob[:,1]\n",
    "print(classification_report(y_test, y_pred))"
   ]
  },
  {
   "cell_type": "code",
   "execution_count": 9,
   "id": "meaning-elephant",
   "metadata": {},
   "outputs": [
    {
     "data": {
      "text/plain": [
       "Text(0.5, 1.0, 'HULKSMASH1337')"
      ]
     },
     "execution_count": 9,
     "metadata": {},
     "output_type": "execute_result"
    },
    {
     "data": {
      "image/png": "[encoded data removed]",
      "text/plain": [
       "<Figure size 432x288 with 1 Axes>"
      ]
     },
     "metadata": {
      "needs_background": "light"
     },
     "output_type": "display_data"
    }
   ],
   "source": [
    "feature_imp = pd.Series(model.feature_importances_,index=X.columns).sort_values(ascending=False)\n",
    "import seaborn as sns\n",
    "import matplotlib.pyplot as plt\n",
    "plot1 = plt.figure(1)\n",
    "sns.barplot(x=feature_imp,y=feature_imp.index)\n",
    "plt.xlabel('Feature Importance')\n",
    "plt.ylabel('Features')\n",
    "plt.title(string_ID)"
   ]
  },
  {
   "cell_type": "code",
   "execution_count": 10,
   "id": "contemporary-luxembourg",
   "metadata": {},
   "outputs": [
    {
     "data": {
      "text/html": [
       "<div>\n",
       "<style scoped>\n",
       "    .dataframe tbody tr th:only-of-type {\n",
       "        vertical-align: middle;\n",
       "    }\n",
       "\n",
       "    .dataframe tbody tr th {\n",
       "        vertical-align: top;\n",
       "    }\n",
       "\n",
       "    .dataframe thead th {\n",
       "        text-align: right;\n",
       "    }\n",
       "</style>\n",
       "<table border=\"1\" class=\"dataframe\">\n",
       "  <thead>\n",
       "    <tr style=\"text-align: right;\">\n",
       "      <th></th>\n",
       "      <th>kills</th>\n",
       "      <th>deaths</th>\n",
       "      <th>assists</th>\n",
       "      <th>totalDamageDealt</th>\n",
       "      <th>damageDealtToObjectives</th>\n",
       "      <th>totalDamageDealtToChampions</th>\n",
       "      <th>goldEarned</th>\n",
       "      <th>totalMinionsKilled</th>\n",
       "    </tr>\n",
       "  </thead>\n",
       "  <tbody>\n",
       "    <tr>\n",
       "      <th>0</th>\n",
       "      <td>3.2</td>\n",
       "      <td>4.4</td>\n",
       "      <td>5.0</td>\n",
       "      <td>86716.6</td>\n",
       "      <td>6434.2</td>\n",
       "      <td>12107.8</td>\n",
       "      <td>8484.4</td>\n",
       "      <td>128.2</td>\n",
       "    </tr>\n",
       "  </tbody>\n",
       "</table>\n",
       "</div>"
      ],
      "text/plain": [
       "   kills  deaths  assists  totalDamageDealt  damageDealtToObjectives  \\\n",
       "0    3.2     4.4      5.0           86716.6                   6434.2   \n",
       "\n",
       "   totalDamageDealtToChampions  goldEarned  totalMinionsKilled  \n",
       "0                      12107.8      8484.4               128.2  "
      ]
     },
     "execution_count": 10,
     "metadata": {},
     "output_type": "execute_result"
    }
   ],
   "source": [
    "# df2 = data_transformed_df.iloc[[0]]\n",
    "# DF1 = df2.drop(columns=['outcome'])\n",
    "mean_data = data_transformed_df.head(5).mean(axis=0)\n",
    "df_final = mean_data.to_frame().T.drop(columns=['outcome'])\n",
    "df_final"
   ]
  },
  {
   "cell_type": "code",
   "execution_count": 11,
   "id": "sacred-mechanism",
   "metadata": {},
   "outputs": [
    {
     "name": "stdout",
     "output_type": "stream",
     "text": [
      "The predicted outcome of the next game based on aggregate data over 5 games will be a loss\n"
     ]
    }
   ],
   "source": [
    "y_pred = model.predict(df_final)\n",
    "if y_pred == 1:\n",
    "    print('The predicted outcome of the next game based on aggregate data over 5 games will be a win')\n",
    "else:\n",
    "    print('The predicted outcome of the next game based on aggregate data over 5 games will be a loss')"
   ]
  },
  {
   "cell_type": "code",
   "execution_count": 12,
   "id": "incorporated-rates",
   "metadata": {},
   "outputs": [],
   "source": [
    "#watcher.spectator.by_summoner(my_region,lol_tyler_1['id'])\n",
    "#plt.plot(y_test,'o', color='black')"
   ]
  },
  {
   "cell_type": "code",
   "execution_count": null,
   "id": "olympic-county",
   "metadata": {},
   "outputs": [],
   "source": []
  }
 ],
 "metadata": {
  "kernelspec": {
   "display_name": "Python 3",
   "language": "python",
   "name": "python3"
  },
  "language_info": {
   "codemirror_mode": {
    "name": "ipython",
    "version": 3
   },
   "file_extension": ".py",
   "mimetype": "text/x-python",
   "name": "python",
   "nbconvert_exporter": "python",
   "pygments_lexer": "ipython3",
   "version": "3.9.2"
  }
 },
 "nbformat": 4,
 "nbformat_minor": 5
}

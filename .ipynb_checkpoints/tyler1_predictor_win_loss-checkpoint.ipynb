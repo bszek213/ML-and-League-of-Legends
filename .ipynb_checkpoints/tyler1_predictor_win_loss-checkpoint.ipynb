{
 "cells": [
  {
   "cell_type": "code",
   "execution_count": 1,
   "id": "adult-chaos",
   "metadata": {},
   "outputs": [
    {
     "name": "stdout",
     "output_type": "stream",
     "text": [
      "{'id': 'wzoROkOGV256lDuraz1SmF44aWZA23P_2xxNQqGxg0mZLqpn', 'accountId': 'LmXEidbyDIZ39ZzRRAngA7gA6wcxVN1fQEX1PwvyLq2ELFi3vP2ka_4N', 'puuid': 'lZRdO2wVxiR0YDg6ElcZD4uhXHhJNN49pCwxPLIHlQgo0pBJ8_TArbJaTkNp6NMKTLO8cPKPmhf1lQ', 'name': 'HULKSMASH1337', 'profileIconId': 3546, 'revisionDate': 1615616858000, 'summonerLevel': 210}\n"
     ]
    }
   ],
   "source": [
    "from riotwatcher import LolWatcher, ApiError\n",
    "import pandas as pd\n",
    "api_key = 'RGAPI-b76535dd-8615-4d81-9c7b-d23781f539ea'\n",
    "watcher = LolWatcher(api_key)\n",
    "my_region = 'na1'\n",
    "lol_tyler_1 = watcher.summoner.by_name(my_region, 'HULKSMASH1337')\n",
    "print(lol_tyler_1)"
   ]
  },
  {
   "cell_type": "code",
   "execution_count": 3,
   "id": "written-hungarian",
   "metadata": {},
   "outputs": [],
   "source": [
    "my_matches = watcher.match.matchlist_by_account(my_region,\n",
    "                                                lol_tyler_1['accountId'])"
   ]
  },
  {
   "cell_type": "code",
   "execution_count": 4,
   "id": "bigger-garlic",
   "metadata": {},
   "outputs": [],
   "source": [
    "count =0;                                                                       \n",
    "for matchData in my_matches['matches']:\n",
    "        count = count +1"
   ]
  },
  {
   "cell_type": "code",
   "execution_count": 25,
   "id": "logical-calgary",
   "metadata": {},
   "outputs": [
    {
     "name": "stdout",
     "output_type": "stream",
     "text": [
      "   Game #  Participant ID     Summoner Name\n",
      "0      98               1        Watercloth\n",
      "1      98               2            Devilo\n",
      "2      98               3        Kai Lunari\n",
      "3      98               4  ELO TERRORIST DK\n",
      "4      98               5  Over 16 characte\n",
      "5      98               6  living in misery\n",
      "6      98               7   Pinkwardwarrior\n",
      "7      98               8          Clarrisa\n",
      "8      98               9     HULKSMASH1337\n",
      "9      98              10      AlterialDawn\n"
     ]
    }
   ],
   "source": [
    "participants =[]                                                            \n",
    "for allMatch in range(count-1):\n",
    "    last_match = my_matches['matches'][allMatch]\n",
    "    match_detail = watcher.match.by_id(my_region, last_match['gameId'])\n",
    "\n",
    "    part_row ={}                                                            \n",
    "    part_row['Game #'] = allMatch                                           \n",
    "    part_row['champion'] = row['championId']\n",
    "    find_tyler = match_detail['participants']\n",
    "    \n",
    "    for row in match_detail['participants']:\n",
    "        part_row ={}                                                            \n",
    "        part_row['Game #'] = allMatch                                           \n",
    "        part_row['champion'] = row['championId']                                \n",
    "        part_row['win'] = row['stats']['win']                                   \n",
    "        participants.append(part_row)                                           \n",
    "        df = pd.DataFrame(participants)                                         \n",
    "        summoners = []                                                            \n",
    "\n",
    "    #data = dict(zip(allMatch,\n",
    "                    #np.random.randint(10, size=5)))\n",
    "    #match_pandas['Game #'] = [allMatch]\n",
    "    #match_pandas['champion'] = row['championId']\n",
    "    #match_pandas['win'] = row['stats']['win']\n",
    "    #if allMatch == 1:\n",
    "    #    print(match_detail['stats'])"
   ]
  },
  {
   "cell_type": "code",
   "execution_count": null,
   "id": "ongoing-scanning",
   "metadata": {},
   "outputs": [],
   "source": []
  }
 ],
 "metadata": {
  "kernelspec": {
   "display_name": "Python 3",
   "language": "python",
   "name": "python3"
  },
  "language_info": {
   "codemirror_mode": {
    "name": "ipython",
    "version": 3
   },
   "file_extension": ".py",
   "mimetype": "text/x-python",
   "name": "python",
   "nbconvert_exporter": "python",
   "pygments_lexer": "ipython3",
   "version": "3.9.2"
  }
 },
 "nbformat": 4,
 "nbformat_minor": 5
}
